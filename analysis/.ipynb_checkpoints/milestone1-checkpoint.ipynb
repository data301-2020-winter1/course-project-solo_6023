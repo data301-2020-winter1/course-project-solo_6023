{
 "cells": [
  {
   "cell_type": "code",
   "execution_count": 20,
   "metadata": {},
   "outputs": [
    {
     "name": "stdout",
     "output_type": "stream",
     "text": [
      "       Model  Displ  Cyl       Trans Drive      Fuel Cert Region       Stnd  \\\n",
      "0  ACURA ILX    2.4  4.0       AMS-8   2WD  Gasoline          CA  L3ULEV125   \n",
      "1  ACURA ILX    2.4  4.0       AMS-8   2WD  Gasoline          FA     T3B125   \n",
      "2  ACURA MDX    3.0  6.0       AMS-7   4WD  Gasoline          CA  L3ULEV125   \n",
      "3  ACURA MDX    3.0  6.0       AMS-7   4WD  Gasoline          FA     T3B125   \n",
      "4  ACURA MDX    3.5  6.0  SemiAuto-9   2WD  Gasoline          CA  L3ULEV125   \n",
      "\n",
      "             Stnd Description  Underhood ID  Veh Class  Air Pollution Score  \\\n",
      "0  California LEV-III ULEV125  LHNXV02.4KH3  small car                    3   \n",
      "1      Federal Tier 3 Bin 125  LHNXV02.4KH3  small car                    3   \n",
      "2  California LEV-III ULEV125  LHNXV03.0ABC  small SUV                    3   \n",
      "3      Federal Tier 3 Bin 125  LHNXV03.0ABC  small SUV                    3   \n",
      "4  California LEV-III ULEV125  LHNXV03.5PBM  small SUV                    3   \n",
      "\n",
      "  City MPG Hwy MPG Cmb MPG  Greenhouse Gas Score SmartWay Comb CO2  \n",
      "0       24      34      28                     6       No      316  \n",
      "1       24      34      28                     6       No      316  \n",
      "2       26      27      27                     6       No      333  \n",
      "3       26      27      27                     6       No      333  \n",
      "4       20      27      23                     5       No      387  \n"
     ]
    }
   ],
   "source": [
    "import pandas as pd\n",
    "\n",
    "df = pd.read_csv(\"/Users/Mason/cosc301/course-project-solo_6023/data/raw/all_alpha_20.csv\")\n",
    "print(df.head(5))"
   ]
  },
  {
   "cell_type": "code",
   "execution_count": null,
   "metadata": {},
   "outputs": [],
   "source": []
  }
 ],
 "metadata": {
  "kernelspec": {
   "display_name": "Python 3",
   "language": "python",
   "name": "python3"
  },
  "language_info": {
   "codemirror_mode": {
    "name": "ipython",
    "version": 3
   },
   "file_extension": ".py",
   "mimetype": "text/x-python",
   "name": "python",
   "nbconvert_exporter": "python",
   "pygments_lexer": "ipython3",
   "version": "3.8.3"
  }
 },
 "nbformat": 4,
 "nbformat_minor": 4
}
